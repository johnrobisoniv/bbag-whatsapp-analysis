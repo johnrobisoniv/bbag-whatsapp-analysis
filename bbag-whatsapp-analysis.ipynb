{
 "cells": [
  {
   "cell_type": "code",
   "execution_count": 335,
   "metadata": {
    "collapsed": true
   },
   "outputs": [],
   "source": [
    "from dateutil.parser import parse\n",
    "import csv"
   ]
  },
  {
   "cell_type": "code",
   "execution_count": 336,
   "metadata": {
    "collapsed": true
   },
   "outputs": [],
   "source": [
    "def is_date(string):\n",
    "    try: \n",
    "        parse(string)\n",
    "        return True\n",
    "    except ValueError:\n",
    "        return False"
   ]
  },
  {
   "cell_type": "code",
   "execution_count": 337,
   "metadata": {},
   "outputs": [],
   "source": [
    "chat = open('_chat.txt','r')\n",
    "messages = []\n",
    "for i, line in enumerate(chat):\n",
    "    if is_date(line[0:7]): # because some message have new lines; for now we want to just skip these\n",
    "        if line[1] == '/':\n",
    "            date = line[0:7]\n",
    "        else:\n",
    "            date = line[0:8]\n",
    "\n",
    "        line = line.split(':')\n",
    "        if len(line) > 4:\n",
    "         #   print line[3]\n",
    "            user = line[3]\n",
    "            user = user.replace(' \\xe2\\x80\\xaa', '')\n",
    "            user = user.replace('\\xc2\\xa0', ' ')\n",
    "            user = user.replace('\\xe2\\x80\\xac', '')\n",
    "            user = user.replace('\\xe2\\x80\\x91', '-')\n",
    "    messages.append([user,date])\n",
    "#print users\n",
    "#print messages"
   ]
  },
  {
   "cell_type": "code",
   "execution_count": 338,
   "metadata": {},
   "outputs": [],
   "source": [
    "users = []\n",
    "for msg in messages:\n",
    "    \n",
    "    # Set variables to who sent the msg (msg_user) and the date (msg_date)\n",
    "    msg_user = msg[0]\n",
    "    msg_date = msg[1]\n",
    "    \n",
    "\n",
    "    # First, test if user is already in users list\n",
    "    already_counted = False\n",
    "    user_index = None\n",
    "\n",
    "    for i, row in enumerate(users):\n",
    "        if row[0] == msg_user:\n",
    "            #print row[0]\n",
    "            already_counted = True\n",
    "            user_index = i\n",
    "            #print msg_user, i\n",
    "\n",
    "    \n",
    "    if not already_counted:\n",
    "        #print msg_user, msg_date\n",
    "        \n",
    "        # msg_user is not in users list, so add new user \n",
    "        l = [msg_user, msg_date, 1]\n",
    "        #print l\n",
    "        users.append(l)\n",
    "    else: # if the msg_user is already in users list\n",
    "        \n",
    "        # Update date of latest message\n",
    "        users[user_index][1] = msg_date\n",
    "        \n",
    "        # Add to message count\n",
    "        users[user_index][2] += 1\n",
    "        \n",
    "  #  print line\n",
    "#print users"
   ]
  },
  {
   "cell_type": "code",
   "execution_count": 339,
   "metadata": {},
   "outputs": [
    {
     "name": "stdout",
     "output_type": "stream",
     "text": [
      "Writing complete\n"
     ]
    }
   ],
   "source": [
    "outfile = open('bbag-analysis2.csv', 'w')\n",
    "\n",
    "with outfile:\n",
    "    writer = csv.writer(outfile)\n",
    "    writer.writerow(['User','Date of last message', 'Total number of messages sent'])\n",
    "    writer.writerows(users)\n",
    "     \n",
    "print(\"Writing complete\")\n",
    "\n"
   ]
  }
 ],
 "metadata": {
  "kernelspec": {
   "display_name": "Python 2",
   "language": "python",
   "name": "python2"
  },
  "language_info": {
   "codemirror_mode": {
    "name": "ipython",
    "version": 2
   },
   "file_extension": ".py",
   "mimetype": "text/x-python",
   "name": "python",
   "nbconvert_exporter": "python",
   "pygments_lexer": "ipython2",
   "version": "2.7.14"
  }
 },
 "nbformat": 4,
 "nbformat_minor": 2
}
